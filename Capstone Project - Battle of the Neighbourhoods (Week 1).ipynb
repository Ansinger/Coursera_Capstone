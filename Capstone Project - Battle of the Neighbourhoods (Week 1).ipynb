{
 "cells": [
  {
   "cell_type": "markdown",
   "metadata": {},
   "source": [
    "# 1. Introduction to Business Problem"
   ]
  },
  {
   "cell_type": "markdown",
   "metadata": {},
   "source": [
    "The audience for this analysis will be the DOHMH (New York City Department of Health and Mental Hygiene). The DOHMH has very limited inspection capacity (while resturants in New York are plentiful). The DOHMH wants to understand what the primary elements are that predict critical food violations/low inspection grades. This understanding would allow them to focus their inspections on those restaurants where the likelihood for food violations is highest. The DOHMH would also like to understand where the data can be meaningfully clustered. \n",
    "\n",
    "The following business problems will be answered. \n",
    "\n",
    "1. Do zipcode, borough or cuisine reliable predict critical food violations?\n",
    "2. Do zipcode, borough or cuisine reliable predict inspection grade?\n",
    "3. Can the data be meaningfully clustered?\n",
    "4. Do FourSquare likes predict higher inspection grades?\n"
   ]
  },
  {
   "cell_type": "markdown",
   "metadata": {},
   "source": [
    "# 2. Data"
   ]
  },
  {
   "cell_type": "markdown",
   "metadata": {},
   "source": [
    "In this Capstone Project the author will use:\n",
    "1. The \"DOHMH New York City Restaurant Inspection Results\" dataset (as obtained at https://opendata.cityofnewyork.us/). This dataset will be used to pull restaurant zipcode, borough, cuisine, food violations and inspections grades. \n",
    "2. The FourSquare API. This dataset will be used to pull restaurant likes. \n",
    "\n"
   ]
  },
  {
   "cell_type": "code",
   "execution_count": null,
   "metadata": {},
   "outputs": [],
   "source": []
  }
 ],
 "metadata": {
  "kernelspec": {
   "display_name": "Python 3",
   "language": "python",
   "name": "python3"
  },
  "language_info": {
   "codemirror_mode": {
    "name": "ipython",
    "version": 3
   },
   "file_extension": ".py",
   "mimetype": "text/x-python",
   "name": "python",
   "nbconvert_exporter": "python",
   "pygments_lexer": "ipython3",
   "version": "3.7.3"
  }
 },
 "nbformat": 4,
 "nbformat_minor": 2
}
